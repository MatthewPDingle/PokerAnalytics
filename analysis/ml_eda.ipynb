{
 "cells": [
  {
   "cell_type": "markdown",
   "metadata": {},
   "source": [
    "# Player Feature EDA\n",
    "Quick sanity checks on the feature extract before training models."
   ]
  },
  {
   "cell_type": "code",
   "execution_count": null,
   "metadata": {},
   "outputs": [],
   "source": [
    "from pathlib import Path\n",
    "import csv\n",
    "\n",
    "FEATURES = Path('analysis/features/players.csv')\n",
    "assert FEATURES.exists(), f'{FEATURES} not found. Run analysis/ml_features.py first.'\n",
    "\n",
    "rows = []\n",
    "with FEATURES.open('r', encoding='utf-8') as fh:\n",
    "    reader = csv.DictReader(fh)\n",
    "    for row in reader:\n",
    "        rows.append(row)\n",
    "\n",
    "len(rows)"
   ]
  },
  {
   "cell_type": "markdown",
   "metadata": {},
   "source": [
    "## Distribution Helpers\n",
    "Use pure-Python summaries when pandas isn't installed; fallback to pandas describe() when available."
   ]
  },
  {
   "cell_type": "code",
   "execution_count": null,
   "metadata": {},
   "outputs": [],
   "source": [
    "try:\n",
    "    import pandas as pd  # noqa: F401\n",
    "    use_pandas = True\n",
    "except ImportError:\n",
    "    use_pandas = False\n",
    "use_pandas"
   ]
  },
  {
   "cell_type": "code",
   "execution_count": null,
   "metadata": {},
   "outputs": [],
   "source": [
    "if use_pandas:\n",
    "    import pandas as pd\n",
    "    df = pd.DataFrame(rows)\n",
    "    for col in ['bb_per_100', 'vpip_pct', 'three_bet_pct']:\n",
    "        if col in df:\n",
    "            display(df[col].astype(float).describe())\n",
    "else:\n",
    "    import math\n",
    "    from statistics import mean\n",
    "    \n",
    "    def summary(key):\n",
    "        values = [float(r.get(key, 0.0) or 0.0) for r in rows]\n",
    "        values.sort()\n",
    "        n = len(values)\n",
    "        if not n:\n",
    "            return\n",
    "        q1 = values[int(0.25 * (n - 1))]\n",
    "        q3 = values[int(0.75 * (n - 1))]\n",
    "        print(key)\n",
    "        print('  count', n)\n",
    "        print('  mean', round(mean(values), 3))\n",
    "        print('  min / q1 / median / q3 / max', values[0], q1, values[n//2], q3, values[-1])\n",
    "\n",
    "    for column in ['bb_per_100', 'vpip_pct', 'three_bet_pct']:\n",
    "        summary(column)"
   ]
  }
 ],
 "metadata": {
  "kernelspec": {
   "display_name": "Python 3",
   "language": "python",
   "name": "python3"
  },
  "language_info": {
   "name": "python",
   "version": "3.10"
  }
 },
 "nbformat": 4,
 "nbformat_minor": 5
}
